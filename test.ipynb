{
 "cells": [
  {
   "cell_type": "code",
   "execution_count": 11,
   "id": "e0736c1b",
   "metadata": {},
   "outputs": [
    {
     "data": {
      "text/plain": [
       "array([ 3,  3,  3,  3,  4,  5,  6,  7,  8,  9, 10, 12, 15, 15, 15, 15])"
      ]
     },
     "execution_count": 11,
     "metadata": {},
     "output_type": "execute_result"
    }
   ],
   "source": [
    "import numpy as np\n",
    "\n",
    "clipped = np.clip([-15,1,2,-8,4,5,6,7,8,9,10,12,16,80,55,19], 3, 15)\n",
    "clipped"
   ]
  },
  {
   "cell_type": "code",
   "execution_count": 12,
   "id": "fabaec1f",
   "metadata": {},
   "outputs": [
    {
     "data": {
      "text/plain": [
       "(27.77, 25)"
      ]
     },
     "execution_count": 12,
     "metadata": {},
     "output_type": "execute_result"
    }
   ],
   "source": [
    "a={\"b\":25}\n",
    "a.get(\"c\", 27.77), a.get(\"b\", 27.77)"
   ]
  }
 ],
 "metadata": {
  "kernelspec": {
   "display_name": "sumo",
   "language": "python",
   "name": "python3"
  },
  "language_info": {
   "codemirror_mode": {
    "name": "ipython",
    "version": 3
   },
   "file_extension": ".py",
   "mimetype": "text/x-python",
   "name": "python",
   "nbconvert_exporter": "python",
   "pygments_lexer": "ipython3",
   "version": "3.11.5"
  }
 },
 "nbformat": 4,
 "nbformat_minor": 5
}
